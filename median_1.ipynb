{
 "cells": [
  {
   "cell_type": "code",
   "execution_count": 1,
   "id": "4590922e",
   "metadata": {},
   "outputs": [
    {
     "name": "stdout",
     "output_type": "stream",
     "text": [
      "Loading csv file...\n",
      "Creating new data frame with needed columns..\n"
     ]
    }
   ],
   "source": [
    "import pandas as pd\n",
    "\n",
    "file_path = \"C:\\\\Users\\\\mmadh\\\\Videos\\\\Business Quant\\\\Day_4\\\\\"\n",
    "print('Loading csv file...')\n",
    "\n",
    "df1 = pd.read_csv(file_path+'Unpivoted File.csv', low_memory=False)\n",
    "\n",
    "# Creating new dataframe with needed columns\n",
    "print('Creating new data frame with needed columns..')\n",
    "df2 = df1[['Industry', 'dimension', 'Category', 'Value']]\n"
   ]
  },
  {
   "cell_type": "code",
   "execution_count": 2,
   "id": "5bafd966",
   "metadata": {},
   "outputs": [
    {
     "name": "stdout",
     "output_type": "stream",
     "text": [
      "Grouping by columns: 'Industry', 'Dimention' and 'Category' and also calculating the Median using the column 'Value'.\n"
     ]
    }
   ],
   "source": [
    "# Grouping accordingly\n",
    "print(\"Grouping by columns: 'Industry', 'Dimention' and 'Category' and also calculating the Median using the column 'Value'.\")"
   ]
  },
  {
   "cell_type": "code",
   "execution_count": 4,
   "id": "e1e4b665",
   "metadata": {},
   "outputs": [],
   "source": [
    "df3 = df2.groupby(['Industry','dimension','Category']).Value.agg(['median'])"
   ]
  },
  {
   "cell_type": "code",
   "execution_count": 5,
   "id": "50ce69b2",
   "metadata": {},
   "outputs": [],
   "source": [
    "df3['isdelimited'] = 'N'"
   ]
  },
  {
   "cell_type": "code",
   "execution_count": 6,
   "id": "dbe6ee1e",
   "metadata": {},
   "outputs": [
    {
     "data": {
      "text/html": [
       "<div>\n",
       "<style scoped>\n",
       "    .dataframe tbody tr th:only-of-type {\n",
       "        vertical-align: middle;\n",
       "    }\n",
       "\n",
       "    .dataframe tbody tr th {\n",
       "        vertical-align: top;\n",
       "    }\n",
       "\n",
       "    .dataframe thead th {\n",
       "        text-align: right;\n",
       "    }\n",
       "</style>\n",
       "<table border=\"1\" class=\"dataframe\">\n",
       "  <thead>\n",
       "    <tr style=\"text-align: right;\">\n",
       "      <th></th>\n",
       "      <th></th>\n",
       "      <th></th>\n",
       "      <th>median</th>\n",
       "      <th>isdelimited</th>\n",
       "    </tr>\n",
       "    <tr>\n",
       "      <th>Industry</th>\n",
       "      <th>dimension</th>\n",
       "      <th>Category</th>\n",
       "      <th></th>\n",
       "      <th></th>\n",
       "    </tr>\n",
       "  </thead>\n",
       "  <tbody>\n",
       "    <tr>\n",
       "      <th rowspan=\"5\" valign=\"top\">Advertising Agencies</th>\n",
       "      <th rowspan=\"5\" valign=\"top\">Annual</th>\n",
       "      <th>Accounts Payables</th>\n",
       "      <td>3.359608e+07</td>\n",
       "      <td>N</td>\n",
       "    </tr>\n",
       "    <tr>\n",
       "      <th>Accumulated Other Comprehensive Income</th>\n",
       "      <td>0.000000e+00</td>\n",
       "      <td>N</td>\n",
       "    </tr>\n",
       "    <tr>\n",
       "      <th>Asset Turnover Ratio</th>\n",
       "      <td>5.910000e-01</td>\n",
       "      <td>N</td>\n",
       "    </tr>\n",
       "    <tr>\n",
       "      <th>Asset Utilization Ratio</th>\n",
       "      <td>5.220378e-01</td>\n",
       "      <td>N</td>\n",
       "    </tr>\n",
       "    <tr>\n",
       "      <th>Assets Non-Current</th>\n",
       "      <td>2.958291e+08</td>\n",
       "      <td>N</td>\n",
       "    </tr>\n",
       "    <tr>\n",
       "      <th>...</th>\n",
       "      <th>...</th>\n",
       "      <th>...</th>\n",
       "      <td>...</td>\n",
       "      <td>...</td>\n",
       "    </tr>\n",
       "    <tr>\n",
       "      <th rowspan=\"5\" valign=\"top\">Waste Management</th>\n",
       "      <th rowspan=\"5\" valign=\"top\">TTM</th>\n",
       "      <th>Total Dividends &amp; Other Cash Distributions</th>\n",
       "      <td>0.000000e+00</td>\n",
       "      <td>N</td>\n",
       "    </tr>\n",
       "    <tr>\n",
       "      <th>Total Liabilities</th>\n",
       "      <td>3.311875e+08</td>\n",
       "      <td>N</td>\n",
       "    </tr>\n",
       "    <tr>\n",
       "      <th>Total Operating Expenses</th>\n",
       "      <td>1.123945e+08</td>\n",
       "      <td>N</td>\n",
       "    </tr>\n",
       "    <tr>\n",
       "      <th>Total Receivables</th>\n",
       "      <td>6.338200e+07</td>\n",
       "      <td>N</td>\n",
       "    </tr>\n",
       "    <tr>\n",
       "      <th>Working Capital</th>\n",
       "      <td>1.147827e+07</td>\n",
       "      <td>N</td>\n",
       "    </tr>\n",
       "  </tbody>\n",
       "</table>\n",
       "<p>63504 rows × 2 columns</p>\n",
       "</div>"
      ],
      "text/plain": [
       "                                                                                 median  \\\n",
       "Industry             dimension Category                                                   \n",
       "Advertising Agencies Annual    Accounts Payables                           3.359608e+07   \n",
       "                               Accumulated Other Comprehensive Income      0.000000e+00   \n",
       "                               Asset Turnover Ratio                        5.910000e-01   \n",
       "                               Asset Utilization Ratio                     5.220378e-01   \n",
       "                               Assets Non-Current                          2.958291e+08   \n",
       "...                                                                                 ...   \n",
       "Waste Management     TTM       Total Dividends & Other Cash Distributions  0.000000e+00   \n",
       "                               Total Liabilities                           3.311875e+08   \n",
       "                               Total Operating Expenses                    1.123945e+08   \n",
       "                               Total Receivables                           6.338200e+07   \n",
       "                               Working Capital                             1.147827e+07   \n",
       "\n",
       "                                                                          isdelimited  \n",
       "Industry             dimension Category                                                \n",
       "Advertising Agencies Annual    Accounts Payables                                    N  \n",
       "                               Accumulated Other Comprehensive Income               N  \n",
       "                               Asset Turnover Ratio                                 N  \n",
       "                               Asset Utilization Ratio                              N  \n",
       "                               Assets Non-Current                                   N  \n",
       "...                                                                               ...  \n",
       "Waste Management     TTM       Total Dividends & Other Cash Distributions           N  \n",
       "                               Total Liabilities                                    N  \n",
       "                               Total Operating Expenses                             N  \n",
       "                               Total Receivables                                    N  \n",
       "                               Working Capital                                      N  \n",
       "\n",
       "[63504 rows x 2 columns]"
      ]
     },
     "execution_count": 6,
     "metadata": {},
     "output_type": "execute_result"
    }
   ],
   "source": [
    "df3"
   ]
  },
  {
   "cell_type": "code",
   "execution_count": 8,
   "id": "699ff6c5",
   "metadata": {},
   "outputs": [
    {
     "name": "stdout",
     "output_type": "stream",
     "text": [
      "Saving new csv file...\n"
     ]
    }
   ],
   "source": [
    "# # Saving new csv file with Median Calculation\n",
    "print('Saving new csv file...')\n",
    "df3.to_csv(file_path+'filtered_Median.csv')"
   ]
  },
  {
   "cell_type": "code",
   "execution_count": null,
   "id": "48bcfd83",
   "metadata": {},
   "outputs": [],
   "source": []
  }
 ],
 "metadata": {
  "kernelspec": {
   "display_name": "Python 3",
   "language": "python",
   "name": "python3"
  },
  "language_info": {
   "codemirror_mode": {
    "name": "ipython",
    "version": 3
   },
   "file_extension": ".py",
   "mimetype": "text/x-python",
   "name": "python",
   "nbconvert_exporter": "python",
   "pygments_lexer": "ipython3",
   "version": "3.9.10"
  }
 },
 "nbformat": 4,
 "nbformat_minor": 5
}
